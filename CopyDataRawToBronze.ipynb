{
  "cells": [
    {
      "cell_type": "code",
      "source": [
        "obsSchema = spark.read.json(\"abfss://dfs@synapsehackst.dfs.core.windows.net/raw/000047ca-00c7-492b-bf65-740805144cd2/Observation.ndjson\").schema\r\n",
        "obs_df = spark.read.schema(obsSchema).json(\"abfss://dfs@synapsehackst.dfs.core.windows.net/raw/*/Observation.ndjson\")"
      ],
      "outputs": [
        {
          "output_type": "display_data",
          "data": {
            "application/vnd.livy.statement-meta+json": {
              "spark_pool": "hackatchonpool",
              "session_id": "0",
              "statement_id": 3,
              "state": "finished",
              "livy_statement_state": "available",
              "queued_time": "2023-04-22T13:17:40.2873113Z",
              "session_start_time": null,
              "execution_start_time": "2023-04-22T13:17:40.4200917Z",
              "execution_finish_time": "2023-04-22T13:18:07.9790363Z",
              "spark_jobs": null,
              "parent_msg_id": "6b2be213-5bcf-401c-800c-d13efccc64bf"
            },
            "text/plain": "StatementMeta(hackatchonpool, 0, 3, Finished, Available)"
          },
          "metadata": {}
        }
      ],
      "execution_count": 4,
      "metadata": {}
    },
    {
      "cell_type": "code",
      "source": [
        "obs_df.head()"
      ],
      "outputs": [
        {
          "output_type": "display_data",
          "data": {
            "application/vnd.livy.statement-meta+json": {
              "spark_pool": "hackatchonpool",
              "session_id": "0",
              "statement_id": 4,
              "state": "finished",
              "livy_statement_state": "available",
              "queued_time": "2023-04-22T13:17:53.740512Z",
              "session_start_time": null,
              "execution_start_time": "2023-04-22T13:18:08.1368324Z",
              "execution_finish_time": "2023-04-22T13:18:09.2515104Z",
              "spark_jobs": null,
              "parent_msg_id": "634d39fd-cd79-427a-8bb4-e9be85f9e4da"
            },
            "text/plain": "StatementMeta(hackatchonpool, 0, 4, Finished, Available)"
          },
          "metadata": {}
        },
        {
          "output_type": "execute_result",
          "execution_count": 11,
          "data": {
            "text/plain": "Row(category=[Row(coding=[Row(code='vital-signs', display='vital-signs', system='http://terminology.hl7.org/CodeSystem/observation-category')])], code=Row(coding=[Row(code='8302-2', display='Body Height', system='http://loinc.org')], text='Body Height'), component=None, effectiveDateTime='2017-06-25T05:38:18+00:00', encounter=Row(reference='Encounter/ff1842cf-edc0-f3fc-e851-5c57553fb458'), id='2d6e1d96-7237-0987-f3cf-a54d1fea5222', issued='2017-06-25T05:38:18.346+00:00', resourceType='Observation', status='final', subject=Row(reference='Patient/99d8fb63-1b8c-86a0-5a4b-cb94c27e1693'), valueCodeableConcept=None, valueQuantity=Row(code='cm', system='http://unitsofmeasure.org', unit='cm', value=52.7), valueString=None)"
          },
          "metadata": {}
        }
      ],
      "execution_count": 5,
      "metadata": {
        "jupyter": {
          "source_hidden": false,
          "outputs_hidden": false
        },
        "nteract": {
          "transient": {
            "deleting": false
          }
        }
      }
    },
    {
      "cell_type": "code",
      "source": [
        "import pyspark.sql.functions as f"
      ],
      "outputs": [
        {
          "output_type": "display_data",
          "data": {
            "application/vnd.livy.statement-meta+json": {
              "spark_pool": "hackatchonpool",
              "session_id": "0",
              "statement_id": 6,
              "state": "finished",
              "livy_statement_state": "available",
              "queued_time": "2023-04-22T13:20:15.9499309Z",
              "session_start_time": null,
              "execution_start_time": "2023-04-22T13:20:16.0964883Z",
              "execution_finish_time": "2023-04-22T13:20:16.2686314Z",
              "spark_jobs": null,
              "parent_msg_id": "67e45bf5-6f20-4963-a445-5a9235491d97"
            },
            "text/plain": "StatementMeta(hackatchonpool, 0, 6, Finished, Available)"
          },
          "metadata": {}
        }
      ],
      "execution_count": 7,
      "metadata": {
        "jupyter": {
          "source_hidden": false,
          "outputs_hidden": false
        },
        "nteract": {
          "transient": {
            "deleting": false
          }
        }
      }
    },
    {
      "cell_type": "code",
      "source": [
        "observationFiltered = obs_df.\\\r\n",
        "withColumn(\"year\",f.year(f.col('issued'))).\\\r\n",
        "filter(f.col(\"year\").between(2016,2020))\r\n"
      ],
      "outputs": [
        {
          "output_type": "display_data",
          "data": {
            "application/vnd.livy.statement-meta+json": {
              "spark_pool": "hackatchonpool",
              "session_id": "0",
              "statement_id": 7,
              "state": "finished",
              "livy_statement_state": "available",
              "queued_time": "2023-04-22T13:20:16.1534337Z",
              "session_start_time": null,
              "execution_start_time": "2023-04-22T13:20:16.4176366Z",
              "execution_finish_time": "2023-04-22T13:20:16.579496Z",
              "spark_jobs": null,
              "parent_msg_id": "757d8d6b-04e7-4385-89cc-e3d0459ebc32"
            },
            "text/plain": "StatementMeta(hackatchonpool, 0, 7, Finished, Available)"
          },
          "metadata": {}
        }
      ],
      "execution_count": 8,
      "metadata": {
        "jupyter": {
          "source_hidden": false,
          "outputs_hidden": false
        },
        "nteract": {
          "transient": {
            "deleting": false
          }
        }
      }
    },
    {
      "cell_type": "code",
      "source": [
        "observationFiltered.coalesce(2000)\\\r\n",
        ".write.partitionBy(\"year\")\\\r\n",
        ".json(\"abfss://bronze@synapsehackst.dfs.core.windows.net/historic_data/observation/\")"
      ],
      "outputs": [
        {
          "output_type": "display_data",
          "data": {
            "application/vnd.livy.statement-meta+json": {
              "spark_pool": "hackatchonpool",
              "session_id": "0",
              "statement_id": 8,
              "state": "submitted",
              "livy_statement_state": "running",
              "queued_time": "2023-04-22T13:20:18.6193291Z",
              "session_start_time": null,
              "execution_start_time": "2023-04-22T13:20:18.7665781Z",
              "execution_finish_time": null,
              "spark_jobs": null,
              "parent_msg_id": "d5f0f882-37eb-4438-aca0-5d859fc15b49"
            },
            "text/plain": "StatementMeta(hackatchonpool, 0, 8, Submitted, Running)"
          },
          "metadata": {}
        }
      ],
      "execution_count": 9,
      "metadata": {
        "jupyter": {
          "source_hidden": false,
          "outputs_hidden": false
        },
        "nteract": {
          "transient": {
            "deleting": false
          }
        }
      }
    },
    {
      "cell_type": "code",
      "source": [
        "obs_2021 = obs_df.\\\r\n",
        "withColumn(\"year\",f.year(f.col('issued'))).\\\r\n",
        "withColumn(\"month\",f.month(f.col('issued'))).\\\r\n",
        "withColumn(\"day\",f.dayofmonth(f.col('issued'))).\\\r\n",
        "filter(f.col(\"year\") == 2021)\r\n",
        "\r\n",
        "     "
      ],
      "outputs": [
        {
          "output_type": "display_data",
          "data": {
            "application/vnd.livy.statement-meta+json": {
              "spark_pool": null,
              "session_id": null,
              "statement_id": null,
              "state": "waiting",
              "livy_statement_state": null,
              "queued_time": "2023-04-22T13:25:13.1780821Z",
              "session_start_time": null,
              "execution_start_time": null,
              "execution_finish_time": null,
              "spark_jobs": null,
              "parent_msg_id": "46fa3d0c-0c69-4b5b-b275-70366df338e8"
            },
            "text/plain": "StatementMeta(, , , Waiting, )"
          },
          "metadata": {}
        }
      ],
      "execution_count": null,
      "metadata": {
        "jupyter": {
          "source_hidden": false,
          "outputs_hidden": false
        },
        "nteract": {
          "transient": {
            "deleting": false
          }
        }
      }
    },
    {
      "cell_type": "code",
      "source": [
        "obs_2021.coalesce(2000).write.\\\r\n",
        "partitionBy(\"year\",\"month\",\"day\").\\\r\n",
        "json(\"abfss://bronze@synapsehackst.dfs.core.windows.net/incremental_data/observation/\")"
      ],
      "outputs": [
        {
          "output_type": "display_data",
          "data": {
            "application/vnd.livy.statement-meta+json": {
              "spark_pool": null,
              "session_id": null,
              "statement_id": null,
              "state": "waiting",
              "livy_statement_state": null,
              "queued_time": "2023-04-22T13:25:51.3373832Z",
              "session_start_time": null,
              "execution_start_time": null,
              "execution_finish_time": null,
              "spark_jobs": null,
              "parent_msg_id": "f423b5d2-5a5f-4eca-ae23-aed02abd95ba"
            },
            "text/plain": "StatementMeta(, , , Waiting, )"
          },
          "metadata": {}
        }
      ],
      "execution_count": null,
      "metadata": {
        "jupyter": {
          "source_hidden": false,
          "outputs_hidden": false
        },
        "nteract": {
          "transient": {
            "deleting": false
          }
        }
      }
    },
    {
      "cell_type": "code",
      "source": [],
      "outputs": [],
      "execution_count": null,
      "metadata": {
        "jupyter": {
          "source_hidden": false,
          "outputs_hidden": false
        },
        "nteract": {
          "transient": {
            "deleting": false
          }
        }
      }
    }
  ],
  "metadata": {
    "language_info": {
      "name": "python"
    },
    "kernelspec": {
      "name": "synapse_pyspark",
      "language": "Python",
      "display_name": "Synapse PySpark"
    },
    "kernel_info": {
      "name": "synapse_pyspark"
    },
    "save_output": true,
    "synapse_widget": {
      "version": "0.1",
      "state": {}
    }
  },
  "nbformat": 4,
  "nbformat_minor": 2
}