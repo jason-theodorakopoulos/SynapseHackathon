{
  "cells": [
    {
      "cell_type": "code",
      "source": [
        "import pyspark.sql.functions as f\r\n",
        "from pyspark.sql.functions import col"
      ],
      "outputs": [
        {
          "output_type": "display_data",
          "data": {
            "application/vnd.livy.statement-meta+json": {
              "spark_pool": "hackatchonpool",
              "session_id": "5",
              "statement_id": 27,
              "state": "finished",
              "livy_statement_state": "available",
              "queued_time": "2023-05-05T14:03:34.3411322Z",
              "session_start_time": null,
              "execution_start_time": "2023-05-05T14:03:34.4911738Z",
              "execution_finish_time": "2023-05-05T14:03:34.6882525Z",
              "spark_jobs": null,
              "parent_msg_id": "9acf1718-6d1f-4e34-bc48-e6604de778e4"
            },
            "text/plain": "StatementMeta(hackatchonpool, 5, 27, Finished, Available)"
          },
          "metadata": {}
        }
      ],
      "execution_count": 26,
      "metadata": {
        "jupyter": {
          "source_hidden": false,
          "outputs_hidden": false
        },
        "nteract": {
          "transient": {
            "deleting": false
          }
        }
      }
    },
    {
      "cell_type": "markdown",
      "source": [
        "# Get dataframes from bronze"
      ],
      "metadata": {
        "nteract": {
          "transient": {
            "deleting": false
          }
        }
      }
    },
    {
      "cell_type": "code",
      "source": [
        "bronze_location = \"abfss://bronze@synapsehackst.dfs.core.windows.net/\"\n",
        "observationSchema = spark.read.json(bronze_location+\"historic_data/observation/year=2016/part-00000-190423bd-20a1-40a2-910f-3388f2d78a2c.c000.json\").schema\n",
        "observation_df = spark.read.schema(observationSchema).json(bronze_location+\"historic_data/observation/year=2016/part-00000-190423bd-20a1-40a2-910f-3388f2d78a2c.c000.json\")\n",
        "claimSchema = spark.read.json(bronze_location+\"historic_data/claim/year=2016/part-00000-3568a0cf-2179-4481-b6dd-1b210f01ba9f.c000.json\").schema\n",
        "claim_df = spark.read.schema(claimSchema).json(bronze_location+\"historic_data/claim/year=2016/part-00000-3568a0cf-2179-4481-b6dd-1b210f01ba9f.c000.json\")"
      ],
      "outputs": [
        {
          "output_type": "display_data",
          "data": {
            "application/vnd.livy.statement-meta+json": {
              "spark_pool": "hackatchonpool",
              "session_id": "5",
              "statement_id": 9,
              "state": "finished",
              "livy_statement_state": "available",
              "queued_time": "2023-05-05T13:43:29.1082856Z",
              "session_start_time": null,
              "execution_start_time": "2023-05-05T13:43:29.2409098Z",
              "execution_finish_time": "2023-05-05T13:43:31.1847561Z",
              "spark_jobs": null,
              "parent_msg_id": "35947e3c-db49-4d13-aaa6-813d3089ebda"
            },
            "text/plain": "StatementMeta(hackatchonpool, 5, 9, Finished, Available)"
          },
          "metadata": {}
        }
      ],
      "execution_count": 8,
      "metadata": {}
    },
    {
      "cell_type": "code",
      "source": [
        "observation_df.printSchema()"
      ],
      "outputs": [
        {
          "output_type": "display_data",
          "data": {
            "application/vnd.livy.statement-meta+json": {
              "spark_pool": "hackatchonpool",
              "session_id": "5",
              "statement_id": 10,
              "state": "finished",
              "livy_statement_state": "available",
              "queued_time": "2023-05-05T13:43:29.4613792Z",
              "session_start_time": null,
              "execution_start_time": "2023-05-05T13:43:31.3799157Z",
              "execution_finish_time": "2023-05-05T13:43:31.5999294Z",
              "spark_jobs": null,
              "parent_msg_id": "87f6156b-6b3e-4fa4-8b28-141443e20635"
            },
            "text/plain": "StatementMeta(hackatchonpool, 5, 10, Finished, Available)"
          },
          "metadata": {}
        },
        {
          "output_type": "stream",
          "name": "stdout",
          "text": [
            "root\n |-- category: array (nullable = true)\n |    |-- element: struct (containsNull = true)\n |    |    |-- coding: array (nullable = true)\n |    |    |    |-- element: struct (containsNull = true)\n |    |    |    |    |-- code: string (nullable = true)\n |    |    |    |    |-- display: string (nullable = true)\n |    |    |    |    |-- system: string (nullable = true)\n |-- code: struct (nullable = true)\n |    |-- coding: array (nullable = true)\n |    |    |-- element: struct (containsNull = true)\n |    |    |    |-- code: string (nullable = true)\n |    |    |    |-- display: string (nullable = true)\n |    |    |    |-- system: string (nullable = true)\n |    |-- text: string (nullable = true)\n |-- component: array (nullable = true)\n |    |-- element: struct (containsNull = true)\n |    |    |-- code: struct (nullable = true)\n |    |    |    |-- coding: array (nullable = true)\n |    |    |    |    |-- element: struct (containsNull = true)\n |    |    |    |    |    |-- code: string (nullable = true)\n |    |    |    |    |    |-- display: string (nullable = true)\n |    |    |    |    |    |-- system: string (nullable = true)\n |    |    |    |-- text: string (nullable = true)\n |    |    |-- valueQuantity: struct (nullable = true)\n |    |    |    |-- code: string (nullable = true)\n |    |    |    |-- system: string (nullable = true)\n |    |    |    |-- unit: string (nullable = true)\n |    |    |    |-- value: double (nullable = true)\n |-- effectiveDateTime: string (nullable = true)\n |-- encounter: struct (nullable = true)\n |    |-- reference: string (nullable = true)\n |-- id: string (nullable = true)\n |-- issued: string (nullable = true)\n |-- resourceType: string (nullable = true)\n |-- status: string (nullable = true)\n |-- subject: struct (nullable = true)\n |    |-- reference: string (nullable = true)\n |-- valueCodeableConcept: struct (nullable = true)\n |    |-- coding: array (nullable = true)\n |    |    |-- element: struct (containsNull = true)\n |    |    |    |-- code: string (nullable = true)\n |    |    |    |-- display: string (nullable = true)\n |    |    |    |-- system: string (nullable = true)\n |    |-- text: string (nullable = true)\n |-- valueQuantity: struct (nullable = true)\n |    |-- code: string (nullable = true)\n |    |-- system: string (nullable = true)\n |    |-- unit: string (nullable = true)\n |    |-- value: double (nullable = true)\n |-- valueString: string (nullable = true)\n\n"
          ]
        }
      ],
      "execution_count": 9,
      "metadata": {
        "jupyter": {
          "source_hidden": false,
          "outputs_hidden": true
        },
        "nteract": {
          "transient": {
            "deleting": false
          }
        }
      }
    },
    {
      "cell_type": "code",
      "source": [
        "obs_category_df=observation_df.withColumn(\"cat1\", f.explode('category'))\\\r\n",
        "    .select(\"cat1.*\")\\\r\n",
        "    .withColumn(\"cat2\", f.explode('coding'))\\\r\n",
        "    .select(\"cat2.*\")"
      ],
      "outputs": [
        {
          "output_type": "display_data",
          "data": {
            "application/vnd.livy.statement-meta+json": {
              "spark_pool": "hackatchonpool",
              "session_id": "5",
              "statement_id": 11,
              "state": "finished",
              "livy_statement_state": "available",
              "queued_time": "2023-05-05T13:43:29.8611516Z",
              "session_start_time": null,
              "execution_start_time": "2023-05-05T13:43:31.7752558Z",
              "execution_finish_time": "2023-05-05T13:43:31.9366698Z",
              "spark_jobs": null,
              "parent_msg_id": "f2e4af2c-d0ce-4ae6-b7ef-618f4864c9d1"
            },
            "text/plain": "StatementMeta(hackatchonpool, 5, 11, Finished, Available)"
          },
          "metadata": {}
        }
      ],
      "execution_count": 10,
      "metadata": {
        "jupyter": {
          "source_hidden": false,
          "outputs_hidden": false
        },
        "nteract": {
          "transient": {
            "deleting": false
          }
        }
      }
    },
    {
      "cell_type": "code",
      "source": [
        "obs_code_df=observation_df\\\r\n",
        "    .select(\"code.*\")\\\r\n",
        "    .withColumn(\"cat2\", f.explode('coding'))"
      ],
      "outputs": [
        {
          "output_type": "display_data",
          "data": {
            "application/vnd.livy.statement-meta+json": {
              "spark_pool": "hackatchonpool",
              "session_id": "5",
              "statement_id": 12,
              "state": "finished",
              "livy_statement_state": "available",
              "queued_time": "2023-05-05T13:43:30.2853182Z",
              "session_start_time": null,
              "execution_start_time": "2023-05-05T13:43:32.0835992Z",
              "execution_finish_time": "2023-05-05T13:43:32.2829594Z",
              "spark_jobs": null,
              "parent_msg_id": "15f14224-db8e-4e3f-afbe-426e21a0cfb8"
            },
            "text/plain": "StatementMeta(hackatchonpool, 5, 12, Finished, Available)"
          },
          "metadata": {}
        }
      ],
      "execution_count": 11,
      "metadata": {
        "jupyter": {
          "source_hidden": false,
          "outputs_hidden": false
        },
        "nteract": {
          "transient": {
            "deleting": false
          }
        }
      }
    },
    {
      "cell_type": "code",
      "source": [
        "obs_component_df=observation_df.withColumn(\"cat1\", f.explode('component'))\\\r\n",
        "    .select(\"cat1.*\")\\\r\n",
        "    .select(\"code.*\", \"valueQuantity.*\")\\\r\n",
        "    .withColumn(\"cat2\", f.explode('coding'))\\\r\n",
        "    .select(\"text\", \"code\", \"system\", \"unit\", \"value\", col(\"cat2.code\").alias(\"cat2code\"), col(\"cat2.display\"), col(\"cat2.system\").alias(\"cat2system\"))"
      ],
      "outputs": [
        {
          "output_type": "display_data",
          "data": {
            "application/vnd.livy.statement-meta+json": {
              "spark_pool": "hackatchonpool",
              "session_id": "5",
              "statement_id": 36,
              "state": "finished",
              "livy_statement_state": "available",
              "queued_time": "2023-05-05T14:08:35.8975902Z",
              "session_start_time": null,
              "execution_start_time": "2023-05-05T14:08:36.02641Z",
              "execution_finish_time": "2023-05-05T14:08:36.1893971Z",
              "spark_jobs": null,
              "parent_msg_id": "7ff199be-8e95-4955-aae6-65ec5ff61cb8"
            },
            "text/plain": "StatementMeta(hackatchonpool, 5, 36, Finished, Available)"
          },
          "metadata": {}
        }
      ],
      "execution_count": 35,
      "metadata": {
        "jupyter": {
          "source_hidden": false,
          "outputs_hidden": false
        },
        "nteract": {
          "transient": {
            "deleting": false
          }
        }
      }
    },
    {
      "cell_type": "code",
      "source": [
        "claim_df.printSchema()"
      ],
      "outputs": [
        {
          "output_type": "display_data",
          "data": {
            "application/vnd.livy.statement-meta+json": {
              "spark_pool": "hackatchonpool",
              "session_id": "5",
              "statement_id": 14,
              "state": "finished",
              "livy_statement_state": "available",
              "queued_time": "2023-05-05T13:43:31.2012116Z",
              "session_start_time": null,
              "execution_start_time": "2023-05-05T13:43:32.7644466Z",
              "execution_finish_time": "2023-05-05T13:43:32.9790897Z",
              "spark_jobs": null,
              "parent_msg_id": "3c166184-2648-44e0-af21-68b78cd9294d"
            },
            "text/plain": "StatementMeta(hackatchonpool, 5, 14, Finished, Available)"
          },
          "metadata": {}
        },
        {
          "output_type": "stream",
          "name": "stdout",
          "text": [
            "root\n |-- billablePeriod: struct (nullable = true)\n |    |-- end: string (nullable = true)\n |    |-- start: string (nullable = true)\n |-- created: string (nullable = true)\n |-- diagnosis: array (nullable = true)\n |    |-- element: struct (containsNull = true)\n |    |    |-- diagnosisReference: struct (nullable = true)\n |    |    |    |-- reference: string (nullable = true)\n |    |    |-- sequence: long (nullable = true)\n |-- id: string (nullable = true)\n |-- insurance: array (nullable = true)\n |    |-- element: struct (containsNull = true)\n |    |    |-- coverage: struct (nullable = true)\n |    |    |    |-- display: string (nullable = true)\n |    |    |-- focal: boolean (nullable = true)\n |    |    |-- sequence: long (nullable = true)\n |-- item: array (nullable = true)\n |    |-- element: struct (containsNull = true)\n |    |    |-- diagnosisSequence: array (nullable = true)\n |    |    |    |-- element: long (containsNull = true)\n |    |    |-- encounter: array (nullable = true)\n |    |    |    |-- element: struct (containsNull = true)\n |    |    |    |    |-- reference: string (nullable = true)\n |    |    |-- informationSequence: array (nullable = true)\n |    |    |    |-- element: long (containsNull = true)\n |    |    |-- net: struct (nullable = true)\n |    |    |    |-- currency: string (nullable = true)\n |    |    |    |-- value: double (nullable = true)\n |    |    |-- procedureSequence: array (nullable = true)\n |    |    |    |-- element: long (containsNull = true)\n |    |    |-- productOrService: struct (nullable = true)\n |    |    |    |-- coding: array (nullable = true)\n |    |    |    |    |-- element: struct (containsNull = true)\n |    |    |    |    |    |-- code: string (nullable = true)\n |    |    |    |    |    |-- display: string (nullable = true)\n |    |    |    |    |    |-- system: string (nullable = true)\n |    |    |    |-- text: string (nullable = true)\n |    |    |-- sequence: long (nullable = true)\n |-- patient: struct (nullable = true)\n |    |-- display: string (nullable = true)\n |    |-- reference: string (nullable = true)\n |-- prescription: struct (nullable = true)\n |    |-- reference: string (nullable = true)\n |-- priority: struct (nullable = true)\n |    |-- coding: array (nullable = true)\n |    |    |-- element: struct (containsNull = true)\n |    |    |    |-- code: string (nullable = true)\n |    |    |    |-- system: string (nullable = true)\n |-- procedure: array (nullable = true)\n |    |-- element: struct (containsNull = true)\n |    |    |-- procedureReference: struct (nullable = true)\n |    |    |    |-- reference: string (nullable = true)\n |    |    |-- sequence: long (nullable = true)\n |-- provider: struct (nullable = true)\n |    |-- display: string (nullable = true)\n |    |-- reference: string (nullable = true)\n |-- resourceType: string (nullable = true)\n |-- status: string (nullable = true)\n |-- supportingInfo: array (nullable = true)\n |    |-- element: struct (containsNull = true)\n |    |    |-- category: struct (nullable = true)\n |    |    |    |-- coding: array (nullable = true)\n |    |    |    |    |-- element: struct (containsNull = true)\n |    |    |    |    |    |-- code: string (nullable = true)\n |    |    |    |    |    |-- system: string (nullable = true)\n |    |    |-- sequence: long (nullable = true)\n |    |    |-- valueReference: struct (nullable = true)\n |    |    |    |-- reference: string (nullable = true)\n |-- total: struct (nullable = true)\n |    |-- currency: string (nullable = true)\n |    |-- value: double (nullable = true)\n |-- type: struct (nullable = true)\n |    |-- coding: array (nullable = true)\n |    |    |-- element: struct (containsNull = true)\n |    |    |    |-- code: string (nullable = true)\n |    |    |    |-- system: string (nullable = true)\n |-- use: string (nullable = true)\n\n"
          ]
        }
      ],
      "execution_count": 13,
      "metadata": {
        "jupyter": {
          "source_hidden": false,
          "outputs_hidden": true
        },
        "nteract": {
          "transient": {
            "deleting": false
          }
        }
      }
    },
    {
      "cell_type": "code",
      "source": [
        "claim_diagnosis_df=claim_df.withColumn(\"cat1\", f.explode('diagnosis'))\\\r\n",
        "    .select(\"cat1.*\")\\\r\n",
        "    .select(\"diagnosisReference\", \"sequence\")"
      ],
      "outputs": [
        {
          "output_type": "display_data",
          "data": {
            "application/vnd.livy.statement-meta+json": {
              "spark_pool": "hackatchonpool",
              "session_id": "5",
              "statement_id": 15,
              "state": "finished",
              "livy_statement_state": "available",
              "queued_time": "2023-05-05T13:43:32.0235826Z",
              "session_start_time": null,
              "execution_start_time": "2023-05-05T13:43:33.1245304Z",
              "execution_finish_time": "2023-05-05T13:43:33.3444601Z",
              "spark_jobs": null,
              "parent_msg_id": "d70946f9-0cfa-4472-bc63-7e341f79daee"
            },
            "text/plain": "StatementMeta(hackatchonpool, 5, 15, Finished, Available)"
          },
          "metadata": {}
        }
      ],
      "execution_count": 14,
      "metadata": {
        "jupyter": {
          "source_hidden": false,
          "outputs_hidden": false
        },
        "nteract": {
          "transient": {
            "deleting": false
          }
        }
      }
    },
    {
      "cell_type": "code",
      "source": [
        "claim_insurance_df=claim_df.withColumn(\"cat1\", f.explode('insurance'))\\\r\n",
        "    .select(\"cat1.*\")"
      ],
      "outputs": [
        {
          "output_type": "display_data",
          "data": {
            "application/vnd.livy.statement-meta+json": {
              "spark_pool": "hackatchonpool",
              "session_id": "5",
              "statement_id": 16,
              "state": "finished",
              "livy_statement_state": "available",
              "queued_time": "2023-05-05T13:43:32.8291861Z",
              "session_start_time": null,
              "execution_start_time": "2023-05-05T13:43:33.5033651Z",
              "execution_finish_time": "2023-05-05T13:43:33.6728978Z",
              "spark_jobs": null,
              "parent_msg_id": "d7d35939-a359-42b6-a945-404340f3c60a"
            },
            "text/plain": "StatementMeta(hackatchonpool, 5, 16, Finished, Available)"
          },
          "metadata": {}
        }
      ],
      "execution_count": 15,
      "metadata": {
        "jupyter": {
          "source_hidden": false,
          "outputs_hidden": false
        },
        "nteract": {
          "transient": {
            "deleting": false
          }
        }
      }
    },
    {
      "cell_type": "code",
      "source": [
        "claim_procedure_df=claim_df.withColumn(\"cat1\", f.explode('procedure'))\\\r\n",
        "    .select(\"cat1.*\")"
      ],
      "outputs": [
        {
          "output_type": "display_data",
          "data": {
            "application/vnd.livy.statement-meta+json": {
              "spark_pool": "hackatchonpool",
              "session_id": "5",
              "statement_id": 17,
              "state": "finished",
              "livy_statement_state": "available",
              "queued_time": "2023-05-05T13:43:33.5223341Z",
              "session_start_time": null,
              "execution_start_time": "2023-05-05T13:43:33.8465804Z",
              "execution_finish_time": "2023-05-05T13:43:34.015613Z",
              "spark_jobs": null,
              "parent_msg_id": "f7c7e284-d272-405a-8e26-60cf36faab62"
            },
            "text/plain": "StatementMeta(hackatchonpool, 5, 17, Finished, Available)"
          },
          "metadata": {}
        }
      ],
      "execution_count": 16,
      "metadata": {
        "jupyter": {
          "source_hidden": false,
          "outputs_hidden": false
        },
        "nteract": {
          "transient": {
            "deleting": false
          }
        }
      }
    },
    {
      "cell_type": "markdown",
      "source": [
        "# Write to silver"
      ],
      "metadata": {
        "nteract": {
          "transient": {
            "deleting": false
          }
        }
      }
    },
    {
      "cell_type": "code",
      "source": [
        "silver_location = \"abfss://silver@synapsehackst.dfs.core.windows.net/\"\r\n",
        "write_mode=\"overwrite\""
      ],
      "outputs": [
        {
          "output_type": "display_data",
          "data": {
            "application/vnd.livy.statement-meta+json": {
              "spark_pool": "hackatchonpool",
              "session_id": "5",
              "statement_id": 19,
              "state": "finished",
              "livy_statement_state": "available",
              "queued_time": "2023-05-05T13:43:51.7724648Z",
              "session_start_time": null,
              "execution_start_time": "2023-05-05T13:43:51.9077174Z",
              "execution_finish_time": "2023-05-05T13:43:52.0612093Z",
              "spark_jobs": null,
              "parent_msg_id": "48bf28e7-72d2-433d-96d4-2d6389d8a436"
            },
            "text/plain": "StatementMeta(hackatchonpool, 5, 19, Finished, Available)"
          },
          "metadata": {}
        }
      ],
      "execution_count": 18,
      "metadata": {
        "jupyter": {
          "source_hidden": false,
          "outputs_hidden": false
        },
        "nteract": {
          "transient": {
            "deleting": false
          }
        }
      }
    },
    {
      "cell_type": "code",
      "source": [
        "claim_df.coalesce(200).write.format(\"delta\").option(\"path\", silver_location+\"claim_main_\").mode(write_mode).saveAsTable(\"fhirdb.claim_main\")\r\n",
        "claim_diagnosis_df.coalesce(200).write.format(\"delta\").option(\"path\", silver_location+\"claim_diagnosis\").mode(write_mode).saveAsTable(\"fhirdb.claim_diagnosis\")\r\n",
        "claim_insurance_df.coalesce(200).write.format(\"delta\").option(\"path\", silver_location+\"claim_insurance\").mode(write_mode).saveAsTable(\"fhirdb.claim_insurance\")\r\n",
        "claim_procedure_df.coalesce(200).write.format(\"delta\").option(\"path\", silver_location+\"claim_procedure\").mode(write_mode).saveAsTable(\"fhirdb.claim_procedure\")"
      ],
      "outputs": [],
      "execution_count": null,
      "metadata": {
        "jupyter": {
          "source_hidden": false,
          "outputs_hidden": false
        },
        "nteract": {
          "transient": {
            "deleting": false
          }
        }
      }
    },
    {
      "cell_type": "code",
      "source": [
        "observation_df.coalesce(200).write.format(\"delta\").option(\"path\", silver_location+\"observation\").mode(write_mode).saveAsTable(\"fhirdb.observation_main\")\r\n",
        "obs_category_df.coalesce(200).write.format(\"delta\").option(\"path\", silver_location+\"category\").mode(write_mode).saveAsTable(\"fhirdb.category\")\r\n",
        "obs_code_df.coalesce(200).write.format(\"delta\").option(\"path\", silver_location+\"code\").mode(write_mode).saveAsTable(\"fhirdb.code\")\r\n",
        "obs_component_df.coalesce(200).write.format(\"delta\").option(\"path\", silver_location+\"component\").mode(write_mode).saveAsTable(\"fhirdb.component\")"
      ],
      "outputs": [
        {
          "output_type": "display_data",
          "data": {
            "application/vnd.livy.statement-meta+json": {
              "spark_pool": "hackatchonpool",
              "session_id": "5",
              "statement_id": 38,
              "state": "finished",
              "livy_statement_state": "available",
              "queued_time": "2023-05-05T14:08:43.8070078Z",
              "session_start_time": null,
              "execution_start_time": "2023-05-05T14:08:43.9406039Z",
              "execution_finish_time": "2023-05-05T14:08:58.8622642Z",
              "spark_jobs": null,
              "parent_msg_id": "08a05028-5e50-485c-9f29-6925cb30bf89"
            },
            "text/plain": "StatementMeta(hackatchonpool, 5, 38, Finished, Available)"
          },
          "metadata": {}
        }
      ],
      "execution_count": 37,
      "metadata": {
        "jupyter": {
          "source_hidden": false,
          "outputs_hidden": false
        },
        "nteract": {
          "transient": {
            "deleting": false
          }
        }
      }
    },
    {
      "cell_type": "code",
      "source": [],
      "outputs": [],
      "execution_count": null,
      "metadata": {
        "jupyter": {
          "source_hidden": false,
          "outputs_hidden": false
        },
        "nteract": {
          "transient": {
            "deleting": false
          }
        }
      }
    }
  ],
  "metadata": {
    "kernelspec": {
      "name": "synapse_pyspark",
      "language": "Python",
      "display_name": "Synapse PySpark"
    },
    "language_info": {
      "name": "python"
    },
    "kernel_info": {
      "name": "synapse_pyspark"
    },
    "description": null,
    "save_output": true,
    "synapse_widget": {
      "version": "0.1",
      "state": {}
    }
  },
  "nbformat": 4,
  "nbformat_minor": 2
}