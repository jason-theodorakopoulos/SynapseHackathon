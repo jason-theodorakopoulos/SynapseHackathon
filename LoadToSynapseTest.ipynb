{
  "cells": [
    {
      "cell_type": "code",
      "execution_count": null,
      "metadata": {},
      "outputs": [],
      "source": [
        "import com.microsoft.spark.sqlanalytics\n",
        "from com.microsoft.spark.sqlanalytics.constants import constants"
      ]
    },
    {
      "cell_type": "code",
      "execution_count": null,
      "metadata": {
        "jupyter": {
          "outputs_hidden": false,
          "source_hidden": false
        },
        "nteract": {
          "transient": {
            "deleting": false
          }
        }
      },
      "outputs": [],
      "source": [
        "server_name = \"synapsedemopot.sql.azuresynapse.net\"\n",
        "synapse_data_loader = \"\"\n",
        "synapse_data_loader_p = \"\"\n",
        "staging_temp_folder = \"abfss://temp@.dfs.core.windows.net/staging\"\n",
        "staging_account_key = \"account_key\""
      ]
    },
    {
      "cell_type": "code",
      "execution_count": null,
      "metadata": {
        "jupyter": {
          "outputs_hidden": false,
          "source_hidden": false
        },
        "nteract": {
          "transient": {
            "deleting": false
          }
        }
      },
      "outputs": [],
      "source": [
        "spark_table_to_load = \"fhir.patient_identifier\"\n",
        "sql_table_target = 'fhir_dedicatedSQLPool.stage.patient_identifier'"
      ]
    },
    {
      "cell_type": "code",
      "execution_count": null,
      "metadata": {
        "jupyter": {
          "outputs_hidden": false,
          "source_hidden": false
        },
        "nteract": {
          "transient": {
            "deleting": false
          }
        }
      },
      "outputs": [],
      "source": [
        "print(staging_temp_folder)\n",
        "print(staging_account_key)"
      ]
    },
    {
      "cell_type": "code",
      "execution_count": null,
      "metadata": {
        "jupyter": {
          "outputs_hidden": false,
          "source_hidden": false
        },
        "nteract": {
          "transient": {
            "deleting": false
          }
        }
      },
      "outputs": [],
      "source": [
        "dfload = spark.table.read(spark_table_to_load)"
      ]
    },
    {
      "cell_type": "code",
      "execution_count": null,
      "metadata": {
        "jupyter": {
          "outputs_hidden": false,
          "source_hidden": false
        },
        "nteract": {
          "transient": {
            "deleting": false
          }
        }
      },
      "outputs": [],
      "source": [
        "df.write.option(Constants.SERVER, server_name) \\\n",
        "        .option(Constants.USER, syanpse_data_loader) \\\n",
        "        .option(Constants.PASSWORD, synapse_data_loader_p) \\\n",
        "        .option(Constants.TEMP_FOLDER, staging_temp_folder).mode(\"overwrite\") \\\n",
        "        .option(Constants.STAGING_STORAGE_ACCOUNT_KEY, staging_account_key) \\\n",
        "        .synapsesql(sql_table_target)\n"
      ]
    }
  ],
  "metadata": {
    "kernelspec": {
      "display_name": "python",
      "name": "synapse_pyspark"
    },
    "language_info": {
      "name": "python"
    },
    "save_output": true,
    "synapse_widget": {
      "state": {},
      "version": "0.1"
    }
  },
  "nbformat": 4,
  "nbformat_minor": 2
}
